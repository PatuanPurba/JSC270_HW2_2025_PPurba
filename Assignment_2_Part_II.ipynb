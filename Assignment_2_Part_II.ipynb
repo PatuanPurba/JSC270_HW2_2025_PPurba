{
  "nbformat": 4,
  "nbformat_minor": 0,
  "metadata": {
    "colab": {
      "provenance": [],
      "authorship_tag": "ABX9TyOUZkIo4JznZMeJHyOEHYUX",
      "include_colab_link": true
    },
    "kernelspec": {
      "name": "python3",
      "display_name": "Python 3"
    },
    "language_info": {
      "name": "python"
    }
  },
  "cells": [
    {
      "cell_type": "markdown",
      "metadata": {
        "id": "view-in-github",
        "colab_type": "text"
      },
      "source": [
        "<a href=\"https://colab.research.google.com/github/PatuanPurba/JSC270_HW2_2025_PPurba/blob/main/Assignment_2_Part_II.ipynb\" target=\"_parent\"><img src=\"https://colab.research.google.com/assets/colab-badge.svg\" alt=\"Open In Colab\"/></a>"
      ]
    },
    {
      "cell_type": "code",
      "execution_count": 1,
      "metadata": {
        "id": "UxGhBhvDdqLb"
      },
      "outputs": [],
      "source": [
        "import pandas as pd\n",
        "import numpy as np\n",
        "import matplotlib.pyplot as plt\n",
        "import seaborn as sns\n",
        "from scipy import stats\n",
        "import statsmodels.api as sm\n",
        "import statsmodels.formula.api as smf"
      ]
    },
    {
      "cell_type": "code",
      "source": [
        "income94 = pd.read_csv('https://archive.ics.uci.edu/ml/machine-learning-databases/adult/adult.data', header=None)\n",
        "income94.columns = ['age','workclass', 'fnlwgt','education','education_num','marital_status','occupation',\n",
        "                    'relationship','race','sex','capital_gain','capital_loss','hours_per_week','native_country','gross_income_group']\n",
        "\n",
        "income94 = income94.applymap(lambda x: x.strip() if isinstance(x, str) else x) # Strip the unnecessary white space"
      ],
      "metadata": {
        "colab": {
          "base_uri": "https://localhost:8080/"
        },
        "id": "o6GZHl0XdqoD",
        "outputId": "b1e0bc76-44aa-46ca-d58d-31a89a9a8ed5"
      },
      "execution_count": 2,
      "outputs": [
        {
          "output_type": "stream",
          "name": "stderr",
          "text": [
            "<ipython-input-2-b6a99e33d999>:5: FutureWarning: DataFrame.applymap has been deprecated. Use DataFrame.map instead.\n",
            "  income94 = income94.applymap(lambda x: x.strip() if isinstance(x, str) else x) # Strip the unnecessary white space\n"
          ]
        }
      ]
    },
    {
      "cell_type": "markdown",
      "source": [
        "# Section II : Data Analysis"
      ],
      "metadata": {
        "id": "8XXO4A0letxG"
      }
    },
    {
      "cell_type": "markdown",
      "source": [
        "## Initial Data Exploration"
      ],
      "metadata": {
        "id": "iIWAe-uDK5fX"
      }
    },
    {
      "cell_type": "markdown",
      "source": [
        "### 1. Check the data type of each column"
      ],
      "metadata": {
        "id": "fqldypz3iiWG"
      }
    },
    {
      "cell_type": "code",
      "source": [
        "income94.dtypes # Checking the data types of every column"
      ],
      "metadata": {
        "colab": {
          "base_uri": "https://localhost:8080/",
          "height": 554
        },
        "id": "nlyn-19ofZW0",
        "outputId": "d0d48e9b-44a8-422a-d4c6-6a198f213aaf"
      },
      "execution_count": 3,
      "outputs": [
        {
          "output_type": "execute_result",
          "data": {
            "text/plain": [
              "age                    int64\n",
              "workclass             object\n",
              "fnlwgt                 int64\n",
              "education             object\n",
              "education_num          int64\n",
              "marital_status        object\n",
              "occupation            object\n",
              "relationship          object\n",
              "race                  object\n",
              "sex                   object\n",
              "capital_gain           int64\n",
              "capital_loss           int64\n",
              "hours_per_week         int64\n",
              "native_country        object\n",
              "gross_income_group    object\n",
              "dtype: object"
            ],
            "text/html": [
              "<div>\n",
              "<style scoped>\n",
              "    .dataframe tbody tr th:only-of-type {\n",
              "        vertical-align: middle;\n",
              "    }\n",
              "\n",
              "    .dataframe tbody tr th {\n",
              "        vertical-align: top;\n",
              "    }\n",
              "\n",
              "    .dataframe thead th {\n",
              "        text-align: right;\n",
              "    }\n",
              "</style>\n",
              "<table border=\"1\" class=\"dataframe\">\n",
              "  <thead>\n",
              "    <tr style=\"text-align: right;\">\n",
              "      <th></th>\n",
              "      <th>0</th>\n",
              "    </tr>\n",
              "  </thead>\n",
              "  <tbody>\n",
              "    <tr>\n",
              "      <th>age</th>\n",
              "      <td>int64</td>\n",
              "    </tr>\n",
              "    <tr>\n",
              "      <th>workclass</th>\n",
              "      <td>object</td>\n",
              "    </tr>\n",
              "    <tr>\n",
              "      <th>fnlwgt</th>\n",
              "      <td>int64</td>\n",
              "    </tr>\n",
              "    <tr>\n",
              "      <th>education</th>\n",
              "      <td>object</td>\n",
              "    </tr>\n",
              "    <tr>\n",
              "      <th>education_num</th>\n",
              "      <td>int64</td>\n",
              "    </tr>\n",
              "    <tr>\n",
              "      <th>marital_status</th>\n",
              "      <td>object</td>\n",
              "    </tr>\n",
              "    <tr>\n",
              "      <th>occupation</th>\n",
              "      <td>object</td>\n",
              "    </tr>\n",
              "    <tr>\n",
              "      <th>relationship</th>\n",
              "      <td>object</td>\n",
              "    </tr>\n",
              "    <tr>\n",
              "      <th>race</th>\n",
              "      <td>object</td>\n",
              "    </tr>\n",
              "    <tr>\n",
              "      <th>sex</th>\n",
              "      <td>object</td>\n",
              "    </tr>\n",
              "    <tr>\n",
              "      <th>capital_gain</th>\n",
              "      <td>int64</td>\n",
              "    </tr>\n",
              "    <tr>\n",
              "      <th>capital_loss</th>\n",
              "      <td>int64</td>\n",
              "    </tr>\n",
              "    <tr>\n",
              "      <th>hours_per_week</th>\n",
              "      <td>int64</td>\n",
              "    </tr>\n",
              "    <tr>\n",
              "      <th>native_country</th>\n",
              "      <td>object</td>\n",
              "    </tr>\n",
              "    <tr>\n",
              "      <th>gross_income_group</th>\n",
              "      <td>object</td>\n",
              "    </tr>\n",
              "  </tbody>\n",
              "</table>\n",
              "</div><br><label><b>dtype:</b> object</label>"
            ]
          },
          "metadata": {},
          "execution_count": 3
        }
      ]
    },
    {
      "cell_type": "code",
      "source": [
        "print(\"Unique value of age\", np.sort(income94['age'].unique()), end='\\n\\n\\n\\n') # We can see that the value is rounded to whole number, so we can treat it as contionus if we only care about it as a whole number. However, not really same as description\n",
        "\n",
        "print(\"Unique vlaue of workclass\", income94['workclass'].unique(), end='\\n\\n\\n\\n') # There is additional value '?' in this column\n",
        "\n",
        "print(\"Unique value of fnlwgt\", np.sort(income94['fnlwgt'].unique()), end='\\n\\n\\n\\n') # Rounded to a whole number, so we can treat it as contionus if we only care about it as a whole number.\n",
        "\n",
        "print(\"Unique value of education\", np.sort(income94['education'].unique()), end='\\n\\n\\n\\n') # Same as the description\n",
        "\n",
        "print(\"Unique value of education_num\", income94['education_num'].unique(), end='\\n\\n\\n\\n') # Not really continous like the description, instead it seems it's an ordinal data based on education column\n",
        "\n",
        "print(\"Unique value of marital_status\", income94['marital_status'].unique(), end='\\n\\n\\n\\n') # Same as the description\n",
        "\n",
        "print(\"Unique value of occupation\", income94['occupation'].unique(), end='\\n\\n\\n\\n') # Same as description\n",
        "\n",
        "print(\"Unique value of relationship\", income94['relationship'].unique(), end='\\n\\n\\n\\n') # Same as description\n",
        "\n",
        "print(\"Unique value of race\", income94['race'].unique(), end='\\n\\n\\n\\n') # Same as description\n",
        "\n",
        "print(\"Unique value of sex\", income94['sex'].unique(), end='\\n\\n\\n\\n') # Same as description\n",
        "\n",
        "print(\"Unique value of capital_gain\", np.sort(income94['capital_gain'].unique()), end='\\n\\n\\n\\n') # Rounded to a whole number, so we can treat it as contionus if we only care about it as a whole number.\n",
        "\n",
        "print(\"Unique value of capital_loss\", np.sort(income94['capital_loss'].unique()), end='\\n\\n\\n\\n') # Rounded to a whole number, so we can treat it as contionus if we only care about it as a whole number.\n",
        "\n",
        "print(\"Unique value of hours_per_week\", np.sort(income94['hours_per_week'].unique()), end='\\n\\n\\n\\n') # Rounded to a whole number, so we can treat it as contionus if we only care about it as a whole number.\n",
        "\n",
        "print(\"Unique value of native_country\", income94['native_country'].unique(), end='\\n\\n\\n\\n') # Same as description with an additional value '?'\n",
        "\n",
        "print(\"Unique value of gross_income_group\", income94['gross_income_group'].unique(), end='\\n\\n\\n\\n') # No description in the website"
      ],
      "metadata": {
        "colab": {
          "base_uri": "https://localhost:8080/"
        },
        "id": "uqOuNWdMd1Y0",
        "outputId": "bf1dfd9b-06b2-49d1-910f-8080f5156ff8"
      },
      "execution_count": 4,
      "outputs": [
        {
          "output_type": "stream",
          "name": "stdout",
          "text": [
            "Unique value of age [17 18 19 20 21 22 23 24 25 26 27 28 29 30 31 32 33 34 35 36 37 38 39 40\n",
            " 41 42 43 44 45 46 47 48 49 50 51 52 53 54 55 56 57 58 59 60 61 62 63 64\n",
            " 65 66 67 68 69 70 71 72 73 74 75 76 77 78 79 80 81 82 83 84 85 86 87 88\n",
            " 90]\n",
            "\n",
            "\n",
            "\n",
            "Unique vlaue of workclass ['State-gov' 'Self-emp-not-inc' 'Private' 'Federal-gov' 'Local-gov' '?'\n",
            " 'Self-emp-inc' 'Without-pay' 'Never-worked']\n",
            "\n",
            "\n",
            "\n",
            "Unique value of fnlwgt [  12285   13769   14878 ... 1366120 1455435 1484705]\n",
            "\n",
            "\n",
            "\n",
            "Unique value of education ['10th' '11th' '12th' '1st-4th' '5th-6th' '7th-8th' '9th' 'Assoc-acdm'\n",
            " 'Assoc-voc' 'Bachelors' 'Doctorate' 'HS-grad' 'Masters' 'Preschool'\n",
            " 'Prof-school' 'Some-college']\n",
            "\n",
            "\n",
            "\n",
            "Unique value of education_num [13  9  7 14  5 10 12 11  4 16 15  3  6  2  1  8]\n",
            "\n",
            "\n",
            "\n",
            "Unique value of marital_status ['Never-married' 'Married-civ-spouse' 'Divorced' 'Married-spouse-absent'\n",
            " 'Separated' 'Married-AF-spouse' 'Widowed']\n",
            "\n",
            "\n",
            "\n",
            "Unique value of occupation ['Adm-clerical' 'Exec-managerial' 'Handlers-cleaners' 'Prof-specialty'\n",
            " 'Other-service' 'Sales' 'Craft-repair' 'Transport-moving'\n",
            " 'Farming-fishing' 'Machine-op-inspct' 'Tech-support' '?'\n",
            " 'Protective-serv' 'Armed-Forces' 'Priv-house-serv']\n",
            "\n",
            "\n",
            "\n",
            "Unique value of relationship ['Not-in-family' 'Husband' 'Wife' 'Own-child' 'Unmarried' 'Other-relative']\n",
            "\n",
            "\n",
            "\n",
            "Unique value of race ['White' 'Black' 'Asian-Pac-Islander' 'Amer-Indian-Eskimo' 'Other']\n",
            "\n",
            "\n",
            "\n",
            "Unique value of sex ['Male' 'Female']\n",
            "\n",
            "\n",
            "\n",
            "Unique value of capital_gain [    0   114   401   594   914   991  1055  1086  1111  1151  1173  1409\n",
            "  1424  1455  1471  1506  1639  1797  1831  1848  2009  2036  2050  2062\n",
            "  2105  2174  2176  2202  2228  2290  2329  2346  2354  2387  2407  2414\n",
            "  2463  2538  2580  2597  2635  2653  2829  2885  2907  2936  2961  2964\n",
            "  2977  2993  3103  3137  3273  3325  3411  3418  3432  3456  3464  3471\n",
            "  3674  3781  3818  3887  3908  3942  4064  4101  4386  4416  4508  4650\n",
            "  4687  4787  4865  4931  4934  5013  5060  5178  5455  5556  5721  6097\n",
            "  6360  6418  6497  6514  6723  6767  6849  7298  7430  7443  7688  7896\n",
            "  7978  8614  9386  9562 10520 10566 10605 11678 13550 14084 14344 15020\n",
            " 15024 15831 18481 20051 22040 25124 25236 27828 34095 41310 99999]\n",
            "\n",
            "\n",
            "\n",
            "Unique value of capital_loss [   0  155  213  323  419  625  653  810  880  974 1092 1138 1258 1340\n",
            " 1380 1408 1411 1485 1504 1539 1564 1573 1579 1590 1594 1602 1617 1628\n",
            " 1648 1651 1668 1669 1672 1719 1721 1726 1735 1740 1741 1755 1762 1816\n",
            " 1825 1844 1848 1876 1887 1902 1944 1974 1977 1980 2001 2002 2042 2051\n",
            " 2057 2080 2129 2149 2163 2174 2179 2201 2205 2206 2231 2238 2246 2258\n",
            " 2267 2282 2339 2352 2377 2392 2415 2444 2457 2467 2472 2489 2547 2559\n",
            " 2603 2754 2824 3004 3683 3770 3900 4356]\n",
            "\n",
            "\n",
            "\n",
            "Unique value of hours_per_week [ 1  2  3  4  5  6  7  8  9 10 11 12 13 14 15 16 17 18 19 20 21 22 23 24\n",
            " 25 26 27 28 29 30 31 32 33 34 35 36 37 38 39 40 41 42 43 44 45 46 47 48\n",
            " 49 50 51 52 53 54 55 56 57 58 59 60 61 62 63 64 65 66 67 68 70 72 73 74\n",
            " 75 76 77 78 80 81 82 84 85 86 87 88 89 90 91 92 94 95 96 97 98 99]\n",
            "\n",
            "\n",
            "\n",
            "Unique value of native_country ['United-States' 'Cuba' 'Jamaica' 'India' '?' 'Mexico' 'South'\n",
            " 'Puerto-Rico' 'Honduras' 'England' 'Canada' 'Germany' 'Iran'\n",
            " 'Philippines' 'Italy' 'Poland' 'Columbia' 'Cambodia' 'Thailand' 'Ecuador'\n",
            " 'Laos' 'Taiwan' 'Haiti' 'Portugal' 'Dominican-Republic' 'El-Salvador'\n",
            " 'France' 'Guatemala' 'China' 'Japan' 'Yugoslavia' 'Peru'\n",
            " 'Outlying-US(Guam-USVI-etc)' 'Scotland' 'Trinadad&Tobago' 'Greece'\n",
            " 'Nicaragua' 'Vietnam' 'Hong' 'Ireland' 'Hungary' 'Holand-Netherlands']\n",
            "\n",
            "\n",
            "\n",
            "Unique value of gross_income_group ['<=50K' '>50K']\n",
            "\n",
            "\n",
            "\n"
          ]
        }
      ]
    },
    {
      "cell_type": "markdown",
      "source": [
        "### 2. Check for Missing Values"
      ],
      "metadata": {
        "id": "8GJ0Ts3Dioj7"
      }
    },
    {
      "cell_type": "code",
      "source": [
        "(income94 == '?').sum() # We know from the website source that the missing values are represented by \"?\""
      ],
      "metadata": {
        "colab": {
          "base_uri": "https://localhost:8080/",
          "height": 617
        },
        "id": "zTUHUWhqi-vV",
        "outputId": "ca1d7ffc-f70f-4970-93b7-ff402051deab"
      },
      "execution_count": 51,
      "outputs": [
        {
          "output_type": "execute_result",
          "data": {
            "text/plain": [
              "age                      0\n",
              "workclass                0\n",
              "fnlwgt                   0\n",
              "education                0\n",
              "education_num            0\n",
              "marital_status           0\n",
              "occupation               0\n",
              "relationship             0\n",
              "race                     0\n",
              "sex                      0\n",
              "capital_gain             0\n",
              "capital_loss             0\n",
              "hours_per_week           0\n",
              "native_country           0\n",
              "gross_income_group       0\n",
              "capital_gain_category    0\n",
              "capital_loss_category    0\n",
              "dtype: int64"
            ],
            "text/html": [
              "<div>\n",
              "<style scoped>\n",
              "    .dataframe tbody tr th:only-of-type {\n",
              "        vertical-align: middle;\n",
              "    }\n",
              "\n",
              "    .dataframe tbody tr th {\n",
              "        vertical-align: top;\n",
              "    }\n",
              "\n",
              "    .dataframe thead th {\n",
              "        text-align: right;\n",
              "    }\n",
              "</style>\n",
              "<table border=\"1\" class=\"dataframe\">\n",
              "  <thead>\n",
              "    <tr style=\"text-align: right;\">\n",
              "      <th></th>\n",
              "      <th>0</th>\n",
              "    </tr>\n",
              "  </thead>\n",
              "  <tbody>\n",
              "    <tr>\n",
              "      <th>age</th>\n",
              "      <td>0</td>\n",
              "    </tr>\n",
              "    <tr>\n",
              "      <th>workclass</th>\n",
              "      <td>0</td>\n",
              "    </tr>\n",
              "    <tr>\n",
              "      <th>fnlwgt</th>\n",
              "      <td>0</td>\n",
              "    </tr>\n",
              "    <tr>\n",
              "      <th>education</th>\n",
              "      <td>0</td>\n",
              "    </tr>\n",
              "    <tr>\n",
              "      <th>education_num</th>\n",
              "      <td>0</td>\n",
              "    </tr>\n",
              "    <tr>\n",
              "      <th>marital_status</th>\n",
              "      <td>0</td>\n",
              "    </tr>\n",
              "    <tr>\n",
              "      <th>occupation</th>\n",
              "      <td>0</td>\n",
              "    </tr>\n",
              "    <tr>\n",
              "      <th>relationship</th>\n",
              "      <td>0</td>\n",
              "    </tr>\n",
              "    <tr>\n",
              "      <th>race</th>\n",
              "      <td>0</td>\n",
              "    </tr>\n",
              "    <tr>\n",
              "      <th>sex</th>\n",
              "      <td>0</td>\n",
              "    </tr>\n",
              "    <tr>\n",
              "      <th>capital_gain</th>\n",
              "      <td>0</td>\n",
              "    </tr>\n",
              "    <tr>\n",
              "      <th>capital_loss</th>\n",
              "      <td>0</td>\n",
              "    </tr>\n",
              "    <tr>\n",
              "      <th>hours_per_week</th>\n",
              "      <td>0</td>\n",
              "    </tr>\n",
              "    <tr>\n",
              "      <th>native_country</th>\n",
              "      <td>0</td>\n",
              "    </tr>\n",
              "    <tr>\n",
              "      <th>gross_income_group</th>\n",
              "      <td>0</td>\n",
              "    </tr>\n",
              "    <tr>\n",
              "      <th>capital_gain_category</th>\n",
              "      <td>0</td>\n",
              "    </tr>\n",
              "    <tr>\n",
              "      <th>capital_loss_category</th>\n",
              "      <td>0</td>\n",
              "    </tr>\n",
              "  </tbody>\n",
              "</table>\n",
              "</div><br><label><b>dtype:</b> int64</label>"
            ]
          },
          "metadata": {},
          "execution_count": 51
        }
      ]
    },
    {
      "cell_type": "code",
      "source": [
        "# Replace the ' ?' in the column into np.nan so future analysis can be done easier\n",
        "income94.replace({'?': np.nan}, inplace=True)"
      ],
      "metadata": {
        "id": "ujx9w2pqmBmt"
      },
      "execution_count": 7,
      "outputs": []
    },
    {
      "cell_type": "markdown",
      "source": [
        "### 3. Plot Capital Gain and Capital Loss"
      ],
      "metadata": {
        "id": "FQig4mvZnuXH"
      }
    },
    {
      "cell_type": "code",
      "source": [
        "# Plotting the Capital_Gain and Capital_Loss by using histogram\n",
        "fig, axes = plt.subplots(1, 2, figsize=(15, 5))\n",
        "\n",
        "axes[0].hist(income94['capital_gain'], label=\"capital_gain\")\n",
        "axes[0].set_xlabel('Capital Gain')\n",
        "axes[0].set_ylabel('Count')\n",
        "axes[0].legend()\n",
        "\n",
        "axes[1].hist(income94['capital_loss'], label=\"capital_loss\")\n",
        "axes[1].set_xlabel('Capital Loss')\n",
        "axes[1].set_ylabel('Count')\n",
        "axes[1].legend()\n",
        "\n",
        "plt.show()"
      ],
      "metadata": {
        "colab": {
          "base_uri": "https://localhost:8080/",
          "height": 465
        },
        "id": "xEq3X4Z2Zxy8",
        "outputId": "b9cb4ce0-1cc7-432f-d926-0540523b42fb"
      },
      "execution_count": 8,
      "outputs": [
        {
          "output_type": "display_data",
          "data": {
            "text/plain": [
              "<Figure size 1500x500 with 2 Axes>"
            ],
            "image/png": "[encoded data removed]"
          },
          "metadata": {}
        }
      ]
    },
    {
      "cell_type": "code",
      "source": [
        "# Further Analysis of the distribution of exact value of capital_gain and capital_loss. Since we don't really care about the index in this analysis, we will sort the dataset.\n",
        "fig, axes = plt.subplots(1, 2, figsize=(15, 5))\n",
        "\n",
        "axes[0].plot(np.sort(income94['capital_gain']), label=\"capital_gain\")\n",
        "axes[0].set_xlabel('th datapoint')\n",
        "axes[0].set_ylabel('capital_gain')\n",
        "axes[0].legend()\n",
        "\n",
        "axes[1].plot(np.sort(income94['capital_loss']), label=\"capital_loss\")\n",
        "axes[1].set_xlabel('th datapoint')\n",
        "axes[1].set_ylabel('capital_loss')\n",
        "\n",
        "plt.show()"
      ],
      "metadata": {
        "colab": {
          "base_uri": "https://localhost:8080/",
          "height": 465
        },
        "id": "jzrTCWoWnKyl",
        "outputId": "b3c32dfd-cf40-4349-d8f8-229dcd48f68c"
      },
      "execution_count": 9,
      "outputs": [
        {
          "output_type": "display_data",
          "data": {
            "text/plain": [
              "<Figure size 1500x500 with 2 Axes>"
            ],
            "image/png": "[encoded data removed]"
          },
          "metadata": {}
        }
      ]
    },
    {
      "cell_type": "code",
      "source": [
        "income94['capital_gain'].value_counts() # Find the number of datapoints that have zero value in \"capital_gain\""
      ],
      "metadata": {
        "colab": {
          "base_uri": "https://localhost:8080/",
          "height": 490
        },
        "id": "rPYd16YGSy8b",
        "outputId": "ecb448a9-0cd7-4691-e567-039ab71e3238"
      },
      "execution_count": 10,
      "outputs": [
        {
          "output_type": "execute_result",
          "data": {
            "text/plain": [
              "capital_gain\n",
              "0        29849\n",
              "15024      347\n",
              "7688       284\n",
              "7298       246\n",
              "99999      159\n",
              "         ...  \n",
              "1111         1\n",
              "2538         1\n",
              "22040        1\n",
              "4931         1\n",
              "5060         1\n",
              "Name: count, Length: 119, dtype: int64"
            ],
            "text/html": [
              "<div>\n",
              "<style scoped>\n",
              "    .dataframe tbody tr th:only-of-type {\n",
              "        vertical-align: middle;\n",
              "    }\n",
              "\n",
              "    .dataframe tbody tr th {\n",
              "        vertical-align: top;\n",
              "    }\n",
              "\n",
              "    .dataframe thead th {\n",
              "        text-align: right;\n",
              "    }\n",
              "</style>\n",
              "<table border=\"1\" class=\"dataframe\">\n",
              "  <thead>\n",
              "    <tr style=\"text-align: right;\">\n",
              "      <th></th>\n",
              "      <th>count</th>\n",
              "    </tr>\n",
              "    <tr>\n",
              "      <th>capital_gain</th>\n",
              "      <th></th>\n",
              "    </tr>\n",
              "  </thead>\n",
              "  <tbody>\n",
              "    <tr>\n",
              "      <th>0</th>\n",
              "      <td>29849</td>\n",
              "    </tr>\n",
              "    <tr>\n",
              "      <th>15024</th>\n",
              "      <td>347</td>\n",
              "    </tr>\n",
              "    <tr>\n",
              "      <th>7688</th>\n",
              "      <td>284</td>\n",
              "    </tr>\n",
              "    <tr>\n",
              "      <th>7298</th>\n",
              "      <td>246</td>\n",
              "    </tr>\n",
              "    <tr>\n",
              "      <th>99999</th>\n",
              "      <td>159</td>\n",
              "    </tr>\n",
              "    <tr>\n",
              "      <th>...</th>\n",
              "      <td>...</td>\n",
              "    </tr>\n",
              "    <tr>\n",
              "      <th>1111</th>\n",
              "      <td>1</td>\n",
              "    </tr>\n",
              "    <tr>\n",
              "      <th>2538</th>\n",
              "      <td>1</td>\n",
              "    </tr>\n",
              "    <tr>\n",
              "      <th>22040</th>\n",
              "      <td>1</td>\n",
              "    </tr>\n",
              "    <tr>\n",
              "      <th>4931</th>\n",
              "      <td>1</td>\n",
              "    </tr>\n",
              "    <tr>\n",
              "      <th>5060</th>\n",
              "      <td>1</td>\n",
              "    </tr>\n",
              "  </tbody>\n",
              "</table>\n",
              "<p>119 rows × 1 columns</p>\n",
              "</div><br><label><b>dtype:</b> int64</label>"
            ]
          },
          "metadata": {},
          "execution_count": 10
        }
      ]
    },
    {
      "cell_type": "code",
      "source": [
        "income94['capital_loss'].value_counts() # Find the number of data points that have zero value in \"capital_loss\""
      ],
      "metadata": {
        "colab": {
          "base_uri": "https://localhost:8080/",
          "height": 490
        },
        "id": "s4Tw6Ma6RUja",
        "outputId": "27f96f14-ecc9-4e35-d7ba-bb563533a139"
      },
      "execution_count": 11,
      "outputs": [
        {
          "output_type": "execute_result",
          "data": {
            "text/plain": [
              "capital_loss\n",
              "0       31042\n",
              "1902      202\n",
              "1977      168\n",
              "1887      159\n",
              "1848       51\n",
              "        ...  \n",
              "2080        1\n",
              "1539        1\n",
              "1844        1\n",
              "2489        1\n",
              "1411        1\n",
              "Name: count, Length: 92, dtype: int64"
            ],
            "text/html": [
              "<div>\n",
              "<style scoped>\n",
              "    .dataframe tbody tr th:only-of-type {\n",
              "        vertical-align: middle;\n",
              "    }\n",
              "\n",
              "    .dataframe tbody tr th {\n",
              "        vertical-align: top;\n",
              "    }\n",
              "\n",
              "    .dataframe thead th {\n",
              "        text-align: right;\n",
              "    }\n",
              "</style>\n",
              "<table border=\"1\" class=\"dataframe\">\n",
              "  <thead>\n",
              "    <tr style=\"text-align: right;\">\n",
              "      <th></th>\n",
              "      <th>count</th>\n",
              "    </tr>\n",
              "    <tr>\n",
              "      <th>capital_loss</th>\n",
              "      <th></th>\n",
              "    </tr>\n",
              "  </thead>\n",
              "  <tbody>\n",
              "    <tr>\n",
              "      <th>0</th>\n",
              "      <td>31042</td>\n",
              "    </tr>\n",
              "    <tr>\n",
              "      <th>1902</th>\n",
              "      <td>202</td>\n",
              "    </tr>\n",
              "    <tr>\n",
              "      <th>1977</th>\n",
              "      <td>168</td>\n",
              "    </tr>\n",
              "    <tr>\n",
              "      <th>1887</th>\n",
              "      <td>159</td>\n",
              "    </tr>\n",
              "    <tr>\n",
              "      <th>1848</th>\n",
              "      <td>51</td>\n",
              "    </tr>\n",
              "    <tr>\n",
              "      <th>...</th>\n",
              "      <td>...</td>\n",
              "    </tr>\n",
              "    <tr>\n",
              "      <th>2080</th>\n",
              "      <td>1</td>\n",
              "    </tr>\n",
              "    <tr>\n",
              "      <th>1539</th>\n",
              "      <td>1</td>\n",
              "    </tr>\n",
              "    <tr>\n",
              "      <th>1844</th>\n",
              "      <td>1</td>\n",
              "    </tr>\n",
              "    <tr>\n",
              "      <th>2489</th>\n",
              "      <td>1</td>\n",
              "    </tr>\n",
              "    <tr>\n",
              "      <th>1411</th>\n",
              "      <td>1</td>\n",
              "    </tr>\n",
              "  </tbody>\n",
              "</table>\n",
              "<p>92 rows × 1 columns</p>\n",
              "</div><br><label><b>dtype:</b> int64</label>"
            ]
          },
          "metadata": {},
          "execution_count": 11
        }
      ]
    },
    {
      "cell_type": "markdown",
      "source": [
        "#### Transform Capital Gain and Capital Loss into categorical data"
      ],
      "metadata": {
        "id": "6-R7HstkU4Es"
      }
    },
    {
      "cell_type": "code",
      "source": [
        "# Define a function to transform from numerical value into categorical value based on the threshold\n",
        "def transformation(value, threshold):\n",
        "  if value == 0:\n",
        "    return 'Zero'\n",
        "  elif value < threshold:\n",
        "    return 'Middle'\n",
        "  else:\n",
        "    return 'High'\n",
        "\n",
        "# The value for threshold is extracted from the plot\n",
        "income94['capital_gain_category'] = income94['capital_gain'].apply(lambda x: transformation(x, 20000))\n",
        "income94['capital_loss_category'] = income94['capital_loss'].apply(lambda x: transformation(x, 2000))"
      ],
      "metadata": {
        "id": "6tcfMP-dTJS7"
      },
      "execution_count": 52,
      "outputs": []
    },
    {
      "cell_type": "code",
      "source": [
        "# Plot the new feature (The transformed version of Capital_gain and Capital_loss) by using histogram\n",
        "fig, axes = plt.subplots(1, 2, figsize=(15, 5))\n",
        "\n",
        "axes[0].bar(income94['capital_gain_category'].value_counts().index, income94['capital_gain_category'].value_counts())\n",
        "axes[0].set_xlabel('Capital Gain Category')\n",
        "axes[0].set_ylabel('Count')\n",
        "axes[0].set_title ('Capital Gain Category')\n",
        "\n",
        "axes[1].bar(income94['capital_loss_category'].value_counts().index, income94['capital_loss_category'].value_counts())\n",
        "axes[1].set_xlabel('Capital Loss Category')\n",
        "axes[1].set_ylabel('Count')\n",
        "axes[1].set_title ('Capital Loss Category')\n",
        "plt.show()"
      ],
      "metadata": {
        "colab": {
          "base_uri": "https://localhost:8080/",
          "height": 487
        },
        "id": "gmcKo24uU_QB",
        "outputId": "be69f349-5651-41da-aa91-86cc19c6c982"
      },
      "execution_count": 13,
      "outputs": [
        {
          "output_type": "display_data",
          "data": {
            "text/plain": [
              "<Figure size 1500x500 with 2 Axes>"
            ],
            "image/png": "[encoded data removed]"
          },
          "metadata": {}
        }
      ]
    },
    {
      "cell_type": "code",
      "source": [
        "income94.loc[:, ['capital_gain_category', 'capital_loss_category']].value_counts() # Description of the total numbe rof capital_gain and capital_loss"
      ],
      "metadata": {
        "colab": {
          "base_uri": "https://localhost:8080/",
          "height": 272
        },
        "id": "jxLf7WwDWbb7",
        "outputId": "59f99222-3913-4ee8-d4e0-9e4756cd3823"
      },
      "execution_count": 14,
      "outputs": [
        {
          "output_type": "execute_result",
          "data": {
            "text/plain": [
              "capital_gain_category  capital_loss_category\n",
              "Zero                   Zero                     28330\n",
              "Middle                 Zero                      2459\n",
              "Zero                   Middle                    1194\n",
              "                       High                       325\n",
              "High                   Zero                       253\n",
              "Name: count, dtype: int64"
            ],
            "text/html": [
              "<div>\n",
              "<style scoped>\n",
              "    .dataframe tbody tr th:only-of-type {\n",
              "        vertical-align: middle;\n",
              "    }\n",
              "\n",
              "    .dataframe tbody tr th {\n",
              "        vertical-align: top;\n",
              "    }\n",
              "\n",
              "    .dataframe thead th {\n",
              "        text-align: right;\n",
              "    }\n",
              "</style>\n",
              "<table border=\"1\" class=\"dataframe\">\n",
              "  <thead>\n",
              "    <tr style=\"text-align: right;\">\n",
              "      <th></th>\n",
              "      <th></th>\n",
              "      <th>count</th>\n",
              "    </tr>\n",
              "    <tr>\n",
              "      <th>capital_gain_category</th>\n",
              "      <th>capital_loss_category</th>\n",
              "      <th></th>\n",
              "    </tr>\n",
              "  </thead>\n",
              "  <tbody>\n",
              "    <tr>\n",
              "      <th>Zero</th>\n",
              "      <th>Zero</th>\n",
              "      <td>28330</td>\n",
              "    </tr>\n",
              "    <tr>\n",
              "      <th>Middle</th>\n",
              "      <th>Zero</th>\n",
              "      <td>2459</td>\n",
              "    </tr>\n",
              "    <tr>\n",
              "      <th rowspan=\"2\" valign=\"top\">Zero</th>\n",
              "      <th>Middle</th>\n",
              "      <td>1194</td>\n",
              "    </tr>\n",
              "    <tr>\n",
              "      <th>High</th>\n",
              "      <td>325</td>\n",
              "    </tr>\n",
              "    <tr>\n",
              "      <th>High</th>\n",
              "      <th>Zero</th>\n",
              "      <td>253</td>\n",
              "    </tr>\n",
              "  </tbody>\n",
              "</table>\n",
              "</div><br><label><b>dtype:</b> int64</label>"
            ]
          },
          "metadata": {},
          "execution_count": 14
        }
      ]
    },
    {
      "cell_type": "markdown",
      "source": [
        "### 4. Analysis on Final Weight (fnlwgt) column"
      ],
      "metadata": {
        "id": "y7nGkpPtYTBl"
      }
    },
    {
      "cell_type": "code",
      "source": [
        "# Plotting the final weight to determine its distribution (Whether it's symmetrical or not)\n",
        "plt.hist(income94['fnlwgt'])\n",
        "plt.xlabel('Final Weight')\n",
        "plt.ylabel('Count')\n",
        "plt.show()"
      ],
      "metadata": {
        "colab": {
          "base_uri": "https://localhost:8080/",
          "height": 453
        },
        "id": "tJgW3DAzWkUw",
        "outputId": "07ca0601-2a1a-4711-b25d-c7ad54490d4a"
      },
      "execution_count": 53,
      "outputs": [
        {
          "output_type": "display_data",
          "data": {
            "text/plain": [
              "<Figure size 640x480 with 1 Axes>"
            ],
            "image/png": "[encoded data removed]"
          },
          "metadata": {}
        }
      ]
    },
    {
      "cell_type": "code",
      "source": [
        "filter = (income94['sex'] == 'Male') # Define a filter to split our dataset into \"Male\" and \"Female\"\n",
        "\n",
        "# Plotting the final weight based on their sex by using histogram. Used to analyze the distribution of each category and see whether has the same pattern\n",
        "fig, axes = plt.subplots(1, 2, figsize=(15, 5))\n",
        "\n",
        "axes[0].hist(income94.loc[filter, 'fnlwgt'], bins=20)\n",
        "axes[0].set_xlabel('Final Weight')\n",
        "axes[0].set_ylabel('Count')\n",
        "axes[0].set_title ('Male')\n",
        "\n",
        "axes[1].hist(income94.loc[~filter, 'fnlwgt'], bins=20)\n",
        "axes[1].set_xlabel('Final Weight')\n",
        "axes[1].set_ylabel('Count')\n",
        "axes[1].set_title ('Female')\n",
        "plt.show()"
      ],
      "metadata": {
        "colab": {
          "base_uri": "https://localhost:8080/",
          "height": 487
        },
        "id": "jmlO096Ja-4L",
        "outputId": "6c5d178c-4839-4c44-8e2c-6e3c8bf34963"
      },
      "execution_count": 16,
      "outputs": [
        {
          "output_type": "display_data",
          "data": {
            "text/plain": [
              "<Figure size 1500x500 with 2 Axes>"
            ],
            "image/png": "[encoded data removed]"
          },
          "metadata": {}
        }
      ]
    },
    {
      "cell_type": "code",
      "source": [
        "# Plotting the final weight based on their sex by using boxplot to determine a \"Natural\" outliers\n",
        "fig, axes = plt.subplots(1, 3, figsize=(18, 5))\n",
        "\n",
        "axes[0].boxplot(income94['fnlwgt'])\n",
        "axes[0].set_xlabel('Final Weight')\n",
        "axes[0].set_ylabel('Count')\n",
        "axes[0].set_title ('All')\n",
        "\n",
        "axes[1].boxplot(income94.loc[filter, 'fnlwgt'])\n",
        "axes[1].set_xlabel('Final Weight')\n",
        "axes[1].set_ylabel('Count')\n",
        "axes[1].set_title ('Male')\n",
        "\n",
        "\n",
        "axes[2].boxplot(income94.loc[~filter, 'fnlwgt'])\n",
        "axes[2].set_xlabel('Final Weight')\n",
        "axes[2].set_ylabel('Count')\n",
        "axes[2].set_title ('Female')\n",
        "\n",
        "plt.show()"
      ],
      "metadata": {
        "colab": {
          "base_uri": "https://localhost:8080/",
          "height": 487
        },
        "id": "la-Eczq3xki3",
        "outputId": "54588b60-2286-4be8-cd57-ea00101e0a86"
      },
      "execution_count": 17,
      "outputs": [
        {
          "output_type": "display_data",
          "data": {
            "text/plain": [
              "<Figure size 1800x500 with 3 Axes>"
            ],
            "image/png": "[encoded data removed]"
          },
          "metadata": {}
        }
      ]
    },
    {
      "cell_type": "markdown",
      "source": [
        "## Correlation"
      ],
      "metadata": {
        "id": "YpXhmw65LJlZ"
      }
    },
    {
      "cell_type": "code",
      "source": [
        "# Table Analysis of correlation by using pre-built function on pandas\n",
        "interested_cols = ['age', 'education_num', 'hours_per_week']\n",
        "income94[interested_cols].corr()\n",
        "\n",
        "# Graph our correlation into a heatmap\n",
        "sns.heatmap(income94[interested_cols].corr(), annot=True, cmap='Greys')"
      ],
      "metadata": {
        "colab": {
          "base_uri": "https://localhost:8080/",
          "height": 452
        },
        "id": "CbAHc77MLcjj",
        "outputId": "eca82108-e1df-428c-87da-54ef13a93830"
      },
      "execution_count": 54,
      "outputs": [
        {
          "output_type": "execute_result",
          "data": {
            "text/plain": [
              "<Axes: >"
            ]
          },
          "metadata": {},
          "execution_count": 54
        },
        {
          "output_type": "display_data",
          "data": {
            "text/plain": [
              "<Figure size 640x480 with 2 Axes>"
            ],
            "image/png": "[encoded data removed]"
          },
          "metadata": {}
        }
      ]
    },
    {
      "cell_type": "markdown",
      "source": [
        "### Doing Statistical Analysis (t-test) on the pair of variables with coefficient correlation higher than |0.1|"
      ],
      "metadata": {
        "id": "BMWzpDbBPrYq"
      }
    },
    {
      "cell_type": "code",
      "source": [
        "from scipy.stats import t\n",
        "\n",
        "# A function to find the p-value by using t-test\n",
        "def find_p_value(x, y):\n",
        "  x_mean = np.mean(x)\n",
        "  y_mean = np.mean(y)\n",
        "\n",
        "  x_diff = x - x_mean\n",
        "  y_diff = y - y_mean\n",
        "\n",
        "  numerator = np.sum(x_diff * y_diff)\n",
        "  denominator = np.sqrt(np.sum(x_diff ** 2) * np.sum(y_diff ** 2))\n",
        "\n",
        "  # Compute the correlation between x and y and find the t_value\n",
        "  correlation = numerator / denominator\n",
        "  t_value = correlation * np.sqrt(len(x) - 2) / np.sqrt(1 - correlation ** 2)\n",
        "\n",
        "  # Calculate the p_value\n",
        "  p_value = 2 * (1 - t.cdf(abs(t_value), df=len(x)-2))\n",
        "  return correlation, t_value, p_value\n",
        "\n",
        "\n",
        "\n",
        "# Try to find the pair of variables with absolute value of correlation bigger than 0.1 and do hypothesis testing.\n",
        "result_dict = {}\n",
        "\n",
        "for i in range(len(interested_cols)):\n",
        "  for j in range(i+1, len(interested_cols)):\n",
        "    correlation, t_value, p_value = find_p_value(income94[interested_cols[i]], income94[interested_cols[j]])\n",
        "    if abs(correlation) > 0.1:\n",
        "      result_dict[(interested_cols[i], interested_cols[j])] = {\"correlation\": correlation, \"t_value\": t_value, \"p_value\": p_value}\n",
        "\n",
        "print(result_dict)"
      ],
      "metadata": {
        "colab": {
          "base_uri": "https://localhost:8080/"
        },
        "id": "L6yYV4Xb2ykp",
        "outputId": "bcc420a5-ed68-496a-c876-c70f37b34536"
      },
      "execution_count": 19,
      "outputs": [
        {
          "output_type": "stream",
          "name": "stdout",
          "text": [
            "{('education_num', 'hours_per_week'): {'correlation': 0.1481227326229116, 't_value': 27.025551910727152, 'p_value': 0.0}}\n"
          ]
        }
      ]
    },
    {
      "cell_type": "markdown",
      "source": [
        "### Analyze the Correlation and its Significance between 'education_num' and 'age' clusted by 'sex'"
      ],
      "metadata": {
        "id": "Mvd5KtzAXR8E"
      }
    },
    {
      "cell_type": "code",
      "source": [
        "filter = (income94['sex'] == 'Male') # Define a filter to split the dataset between Male and Female\n",
        "\n",
        "result_dict = {}\n",
        "\n",
        "# Find the correlation, t_value, and p_value of \"Male\" and \"Female\", separately, by using previous defined function\n",
        "correlation, t_value, p_value = find_p_value(income94.loc[filter, 'education_num'], income94.loc[filter, 'age'])\n",
        "result_dict['Male'] = {\"correlation\": correlation, \"t_value\": t_value, \"p_value\": p_value}\n",
        "\n",
        "correlation, t_value, p_value = find_p_value(income94.loc[~filter, 'education_num'], income94.loc[~filter, 'age'])\n",
        "result_dict['Female'] = {\"correlation\": correlation, \"t_value\": t_value, \"p_value\": p_value}\n",
        "\n",
        "# Print the result\n",
        "for key in result_dict:\n",
        "  print(key)\n",
        "  for value in result_dict[key]:\n",
        "    print(value, result_dict[key][value])\n",
        "\n",
        "  print(\"\\n\\n\")"
      ],
      "metadata": {
        "colab": {
          "base_uri": "https://localhost:8080/"
        },
        "id": "HTsXzNBPTsux",
        "outputId": "96c8f947-d17a-4a06-f356-6e4938e433cb"
      },
      "execution_count": 55,
      "outputs": [
        {
          "output_type": "stream",
          "name": "stdout",
          "text": [
            "Male\n",
            "correlation 0.06048640919826829\n",
            "t_value 8.94463039255594\n",
            "p_value 0.0\n",
            "\n",
            "\n",
            "\n",
            "Female\n",
            "correlation -0.01789924393544771\n",
            "t_value -1.8577700479650685\n",
            "p_value 0.06322895030880638\n",
            "\n",
            "\n",
            "\n"
          ]
        }
      ]
    },
    {
      "cell_type": "code",
      "source": [
        "income94.loc[:, ['education_num', 'hours_per_week']].cov() # Compute the Covariance Matrix of \"Education_num\" and \"hours_per_week\""
      ],
      "metadata": {
        "colab": {
          "base_uri": "https://localhost:8080/",
          "height": 112
        },
        "id": "rIYgbRhsXRN6",
        "outputId": "3eb2a762-4cd9-4a9f-f389-44f1f9d5508d"
      },
      "execution_count": 21,
      "outputs": [
        {
          "output_type": "execute_result",
          "data": {
            "text/plain": [
              "                education_num  hours_per_week\n",
              "education_num        6.618890        4.705338\n",
              "hours_per_week       4.705338      152.458995"
            ],
            "text/html": [
              "\n",
              "  <div id=\"df-632c27e3-9819-46d6-86a6-4dd4d60926dd\" class=\"colab-df-container\">\n",
              "    <div>\n",
              "<style scoped>\n",
              "    .dataframe tbody tr th:only-of-type {\n",
              "        vertical-align: middle;\n",
              "    }\n",
              "\n",
              "    .dataframe tbody tr th {\n",
              "        vertical-align: top;\n",
              "    }\n",
              "\n",
              "    .dataframe thead th {\n",
              "        text-align: right;\n",
              "    }\n",
              "</style>\n",
              "<table border=\"1\" class=\"dataframe\">\n",
              "  <thead>\n",
              "    <tr style=\"text-align: right;\">\n",
              "      <th></th>\n",
              "      <th>education_num</th>\n",
              "      <th>hours_per_week</th>\n",
              "    </tr>\n",
              "  </thead>\n",
              "  <tbody>\n",
              "    <tr>\n",
              "      <th>education_num</th>\n",
              "      <td>6.618890</td>\n",
              "      <td>4.705338</td>\n",
              "    </tr>\n",
              "    <tr>\n",
              "      <th>hours_per_week</th>\n",
              "      <td>4.705338</td>\n",
              "      <td>152.458995</td>\n",
              "    </tr>\n",
              "  </tbody>\n",
              "</table>\n",
              "</div>\n",
              "    <div class=\"colab-df-buttons\">\n",
              "\n",
              "  <div class=\"colab-df-container\">\n",
              "    <button class=\"colab-df-convert\" onclick=\"convertToInteractive('df-632c27e3-9819-46d6-86a6-4dd4d60926dd')\"\n",
              "            title=\"Convert this dataframe to an interactive table.\"\n",
              "            style=\"display:none;\">\n",
              "\n",
              "  <svg xmlns=\"http://www.w3.org/2000/svg\" height=\"24px\" viewBox=\"0 -960 960 960\">\n",
              "    <path d=\"M120-120v-720h720v720H120Zm60-500h600v-160H180v160Zm220 220h160v-160H400v160Zm0 220h160v-160H400v160ZM180-400h160v-160H180v160Zm440 0h160v-160H620v160ZM180-180h160v-160H180v160Zm440 0h160v-160H620v160Z\"/>\n",
              "  </svg>\n",
              "    </button>\n",
              "\n",
              "  <style>\n",
              "    .colab-df-container {\n",
              "      display:flex;\n",
              "      gap: 12px;\n",
              "    }\n",
              "\n",
              "    .colab-df-convert {\n",
              "      background-color: #E8F0FE;\n",
              "      border: none;\n",
              "      border-radius: 50%;\n",
              "      cursor: pointer;\n",
              "      display: none;\n",
              "      fill: #1967D2;\n",
              "      height: 32px;\n",
              "      padding: 0 0 0 0;\n",
              "      width: 32px;\n",
              "    }\n",
              "\n",
              "    .colab-df-convert:hover {\n",
              "      background-color: #E2EBFA;\n",
              "      box-shadow: 0px 1px 2px rgba(60, 64, 67, 0.3), 0px 1px 3px 1px rgba(60, 64, 67, 0.15);\n",
              "      fill: #174EA6;\n",
              "    }\n",
              "\n",
              "    .colab-df-buttons div {\n",
              "      margin-bottom: 4px;\n",
              "    }\n",
              "\n",
              "    [theme=dark] .colab-df-convert {\n",
              "      background-color: #3B4455;\n",
              "      fill: #D2E3FC;\n",
              "    }\n",
              "\n",
              "    [theme=dark] .colab-df-convert:hover {\n",
              "      background-color: #434B5C;\n",
              "      box-shadow: 0px 1px 3px 1px rgba(0, 0, 0, 0.15);\n",
              "      filter: drop-shadow(0px 1px 2px rgba(0, 0, 0, 0.3));\n",
              "      fill: #FFFFFF;\n",
              "    }\n",
              "  </style>\n",
              "\n",
              "    <script>\n",
              "      const buttonEl =\n",
              "        document.querySelector('#df-632c27e3-9819-46d6-86a6-4dd4d60926dd button.colab-df-convert');\n",
              "      buttonEl.style.display =\n",
              "        google.colab.kernel.accessAllowed ? 'block' : 'none';\n",
              "\n",
              "      async function convertToInteractive(key) {\n",
              "        const element = document.querySelector('#df-632c27e3-9819-46d6-86a6-4dd4d60926dd');\n",
              "        const dataTable =\n",
              "          await google.colab.kernel.invokeFunction('convertToInteractive',\n",
              "                                                    [key], {});\n",
              "        if (!dataTable) return;\n",
              "\n",
              "        const docLinkHtml = 'Like what you see? Visit the ' +\n",
              "          '<a target=\"_blank\" href=https://colab.research.google.com/notebooks/data_table.ipynb>data table notebook</a>'\n",
              "          + ' to learn more about interactive tables.';\n",
              "        element.innerHTML = '';\n",
              "        dataTable['output_type'] = 'display_data';\n",
              "        await google.colab.output.renderOutput(dataTable, element);\n",
              "        const docLink = document.createElement('div');\n",
              "        docLink.innerHTML = docLinkHtml;\n",
              "        element.appendChild(docLink);\n",
              "      }\n",
              "    </script>\n",
              "  </div>\n",
              "\n",
              "\n",
              "<div id=\"df-289907a7-6ddf-464b-86d2-ef42da584a33\">\n",
              "  <button class=\"colab-df-quickchart\" onclick=\"quickchart('df-289907a7-6ddf-464b-86d2-ef42da584a33')\"\n",
              "            title=\"Suggest charts\"\n",
              "            style=\"display:none;\">\n",
              "\n",
              "<svg xmlns=\"http://www.w3.org/2000/svg\" height=\"24px\"viewBox=\"0 0 24 24\"\n",
              "     width=\"24px\">\n",
              "    <g>\n",
              "        <path d=\"M19 3H5c-1.1 0-2 .9-2 2v14c0 1.1.9 2 2 2h14c1.1 0 2-.9 2-2V5c0-1.1-.9-2-2-2zM9 17H7v-7h2v7zm4 0h-2V7h2v10zm4 0h-2v-4h2v4z\"/>\n",
              "    </g>\n",
              "</svg>\n",
              "  </button>\n",
              "\n",
              "<style>\n",
              "  .colab-df-quickchart {\n",
              "      --bg-color: #E8F0FE;\n",
              "      --fill-color: #1967D2;\n",
              "      --hover-bg-color: #E2EBFA;\n",
              "      --hover-fill-color: #174EA6;\n",
              "      --disabled-fill-color: #AAA;\n",
              "      --disabled-bg-color: #DDD;\n",
              "  }\n",
              "\n",
              "  [theme=dark] .colab-df-quickchart {\n",
              "      --bg-color: #3B4455;\n",
              "      --fill-color: #D2E3FC;\n",
              "      --hover-bg-color: #434B5C;\n",
              "      --hover-fill-color: #FFFFFF;\n",
              "      --disabled-bg-color: #3B4455;\n",
              "      --disabled-fill-color: #666;\n",
              "  }\n",
              "\n",
              "  .colab-df-quickchart {\n",
              "    background-color: var(--bg-color);\n",
              "    border: none;\n",
              "    border-radius: 50%;\n",
              "    cursor: pointer;\n",
              "    display: none;\n",
              "    fill: var(--fill-color);\n",
              "    height: 32px;\n",
              "    padding: 0;\n",
              "    width: 32px;\n",
              "  }\n",
              "\n",
              "  .colab-df-quickchart:hover {\n",
              "    background-color: var(--hover-bg-color);\n",
              "    box-shadow: 0 1px 2px rgba(60, 64, 67, 0.3), 0 1px 3px 1px rgba(60, 64, 67, 0.15);\n",
              "    fill: var(--button-hover-fill-color);\n",
              "  }\n",
              "\n",
              "  .colab-df-quickchart-complete:disabled,\n",
              "  .colab-df-quickchart-complete:disabled:hover {\n",
              "    background-color: var(--disabled-bg-color);\n",
              "    fill: var(--disabled-fill-color);\n",
              "    box-shadow: none;\n",
              "  }\n",
              "\n",
              "  .colab-df-spinner {\n",
              "    border: 2px solid var(--fill-color);\n",
              "    border-color: transparent;\n",
              "    border-bottom-color: var(--fill-color);\n",
              "    animation:\n",
              "      spin 1s steps(1) infinite;\n",
              "  }\n",
              "\n",
              "  @keyframes spin {\n",
              "    0% {\n",
              "      border-color: transparent;\n",
              "      border-bottom-color: var(--fill-color);\n",
              "      border-left-color: var(--fill-color);\n",
              "    }\n",
              "    20% {\n",
              "      border-color: transparent;\n",
              "      border-left-color: var(--fill-color);\n",
              "      border-top-color: var(--fill-color);\n",
              "    }\n",
              "    30% {\n",
              "      border-color: transparent;\n",
              "      border-left-color: var(--fill-color);\n",
              "      border-top-color: var(--fill-color);\n",
              "      border-right-color: var(--fill-color);\n",
              "    }\n",
              "    40% {\n",
              "      border-color: transparent;\n",
              "      border-right-color: var(--fill-color);\n",
              "      border-top-color: var(--fill-color);\n",
              "    }\n",
              "    60% {\n",
              "      border-color: transparent;\n",
              "      border-right-color: var(--fill-color);\n",
              "    }\n",
              "    80% {\n",
              "      border-color: transparent;\n",
              "      border-right-color: var(--fill-color);\n",
              "      border-bottom-color: var(--fill-color);\n",
              "    }\n",
              "    90% {\n",
              "      border-color: transparent;\n",
              "      border-bottom-color: var(--fill-color);\n",
              "    }\n",
              "  }\n",
              "</style>\n",
              "\n",
              "  <script>\n",
              "    async function quickchart(key) {\n",
              "      const quickchartButtonEl =\n",
              "        document.querySelector('#' + key + ' button');\n",
              "      quickchartButtonEl.disabled = true;  // To prevent multiple clicks.\n",
              "      quickchartButtonEl.classList.add('colab-df-spinner');\n",
              "      try {\n",
              "        const charts = await google.colab.kernel.invokeFunction(\n",
              "            'suggestCharts', [key], {});\n",
              "      } catch (error) {\n",
              "        console.error('Error during call to suggestCharts:', error);\n",
              "      }\n",
              "      quickchartButtonEl.classList.remove('colab-df-spinner');\n",
              "      quickchartButtonEl.classList.add('colab-df-quickchart-complete');\n",
              "    }\n",
              "    (() => {\n",
              "      let quickchartButtonEl =\n",
              "        document.querySelector('#df-289907a7-6ddf-464b-86d2-ef42da584a33 button');\n",
              "      quickchartButtonEl.style.display =\n",
              "        google.colab.kernel.accessAllowed ? 'block' : 'none';\n",
              "    })();\n",
              "  </script>\n",
              "</div>\n",
              "\n",
              "    </div>\n",
              "  </div>\n"
            ],
            "application/vnd.google.colaboratory.intrinsic+json": {
              "type": "dataframe",
              "summary": "{\n  \"name\": \"income94\",\n  \"rows\": 2,\n  \"fields\": [\n    {\n      \"column\": \"education_num\",\n      \"properties\": {\n        \"dtype\": \"number\",\n        \"std\": 1.3530855687809764,\n        \"min\": 4.705337944611544,\n        \"max\": 6.618889907032914,\n        \"num_unique_values\": 2,\n        \"samples\": [\n          4.705337944611544,\n          6.618889907032914\n        ],\n        \"semantic_type\": \"\",\n        \"description\": \"\"\n      }\n    },\n    {\n      \"column\": \"hours_per_week\",\n      \"properties\": {\n        \"dtype\": \"number\",\n        \"std\": 104.4776128846532,\n        \"min\": 4.705337944611544,\n        \"max\": 152.45899505045412,\n        \"num_unique_values\": 2,\n        \"samples\": [\n          152.45899505045412,\n          4.705337944611544\n        ],\n        \"semantic_type\": \"\",\n        \"description\": \"\"\n      }\n    }\n  ]\n}"
            }
          },
          "metadata": {},
          "execution_count": 21
        }
      ]
    },
    {
      "cell_type": "markdown",
      "source": [
        "## Regression"
      ],
      "metadata": {
        "id": "t3WXnDtChU1A"
      }
    },
    {
      "cell_type": "code",
      "source": [
        "dependent_variable = 'hours_per_week'\n",
        "independent_variables = ['sex']\n",
        "\n",
        "# Define a function to transform categorical data into one encoded version (Example: Instead of 1 column has 2 values of Male and Female, we will have 2 column that represents is the datapoints is a Male and is the datapoints is a Female)\n",
        "# Used so we can use categorical data for our linear regression\n",
        "def one_hot_nn(df, input_vector):\n",
        "    for value in input_vector.unique():\n",
        "        df[value] = ((input_vector == value).to_numpy(dtype='float32'))\n",
        "\n",
        "\n",
        "# Define a function that can construct our \"Independent Variable\" data by passing the list of feature we are interested on\n",
        "def get_exogenous(df_input, independent_variables):\n",
        "    df = pd.DataFrame()\n",
        "    for value in independent_variables:\n",
        "      if not (np.issubdtype(df_input[value].dtype, np.number)):\n",
        "        one_hot_nn(df, df_input.loc[:, value])\n",
        "\n",
        "      else:\n",
        "        df[value] = df_input.loc[:, value]\n",
        "    result = df.replace({True: 1, False: 0})\n",
        "    return result.infer_objects(copy=False)\n",
        "\n",
        "\n",
        "# Make a model of linear regression  with using \"Sex\" as only independent variable\n",
        "model_1 = sm.OLS(income94[dependent_variable], sm.add_constant(get_exogenous(income94, independent_variables))).fit()\n",
        "print(model_1.summary())"
      ],
      "metadata": {
        "colab": {
          "base_uri": "https://localhost:8080/"
        },
        "id": "orV5cj5shUCt",
        "outputId": "de94598d-6854-44d6-bf24-c37da5937a78"
      },
      "execution_count": 45,
      "outputs": [
        {
          "output_type": "stream",
          "name": "stdout",
          "text": [
            "                            OLS Regression Results                            \n",
            "==============================================================================\n",
            "Dep. Variable:         hours_per_week   R-squared:                       0.053\n",
            "Model:                            OLS   Adj. R-squared:                  0.053\n",
            "Method:                 Least Squares   F-statistic:                     1807.\n",
            "Date:                Tue, 18 Feb 2025   Prob (F-statistic):               0.00\n",
            "Time:                        23:56:24   Log-Likelihood:            -1.2716e+05\n",
            "No. Observations:               32561   AIC:                         2.543e+05\n",
            "Df Residuals:                   32559   BIC:                         2.543e+05\n",
            "Df Model:                           1                                         \n",
            "Covariance Type:            nonrobust                                         \n",
            "==============================================================================\n",
            "                 coef    std err          t      P>|t|      [0.025      0.975]\n",
            "------------------------------------------------------------------------------\n",
            "const         26.2795      0.047    556.919      0.000      26.187      26.372\n",
            "Male          16.1486      0.067    242.451      0.000      16.018      16.279\n",
            "Female        10.1309      0.082    123.797      0.000       9.970      10.291\n",
            "==============================================================================\n",
            "Omnibus:                     2649.390   Durbin-Watson:                   2.019\n",
            "Prob(Omnibus):                  0.000   Jarque-Bera (JB):            13090.867\n",
            "Skew:                           0.239   Prob(JB):                         0.00\n",
            "Kurtosis:                       6.069   Cond. No.                     2.43e+15\n",
            "==============================================================================\n",
            "\n",
            "Notes:\n",
            "[1] Standard Errors assume that the covariance matrix of the errors is correctly specified.\n",
            "[2] The smallest eigenvalue is 8.68e-27. This might indicate that there are\n",
            "strong multicollinearity problems or that the design matrix is singular.\n"
          ]
        }
      ]
    },
    {
      "cell_type": "code",
      "source": [
        "dependent_variable = 'hours_per_week'\n",
        "independent_variables = ['sex', 'education_num']\n",
        "\n",
        "# Make a model of linear regression  with using \"Sex\" and \"Education_num\" as independent variables\n",
        "model_2 = sm.OLS(income94[dependent_variable], sm.add_constant(get_exogenous(income94, independent_variables))).fit()\n",
        "print(model_2.summary())"
      ],
      "metadata": {
        "colab": {
          "base_uri": "https://localhost:8080/"
        },
        "id": "9xKxQBuravVG",
        "outputId": "2ebc0fa6-4b53-4d00-c9a4-f2b71ba0ba21"
      },
      "execution_count": 56,
      "outputs": [
        {
          "output_type": "stream",
          "name": "stdout",
          "text": [
            "                            OLS Regression Results                            \n",
            "==============================================================================\n",
            "Dep. Variable:         hours_per_week   R-squared:                       0.074\n",
            "Model:                            OLS   Adj. R-squared:                  0.074\n",
            "Method:                 Least Squares   F-statistic:                     1295.\n",
            "Date:                Wed, 19 Feb 2025   Prob (F-statistic):               0.00\n",
            "Time:                        01:56:14   Log-Likelihood:            -1.2680e+05\n",
            "No. Observations:               32561   AIC:                         2.536e+05\n",
            "Df Residuals:                   32558   BIC:                         2.536e+05\n",
            "Df Model:                           2                                         \n",
            "Covariance Type:            nonrobust                                         \n",
            "=================================================================================\n",
            "                    coef    std err          t      P>|t|      [0.025      0.975]\n",
            "---------------------------------------------------------------------------------\n",
            "const            21.5973      0.178    121.279      0.000      21.248      21.946\n",
            "Male             13.7841      0.109    126.519      0.000      13.571      13.998\n",
            "Female            7.8132      0.117     66.547      0.000       7.583       8.043\n",
            "education_num     0.6975      0.026     27.244      0.000       0.647       0.748\n",
            "==============================================================================\n",
            "Omnibus:                     2783.881   Durbin-Watson:                   2.018\n",
            "Prob(Omnibus):                  0.000   Jarque-Bera (JB):            14492.060\n",
            "Skew:                           0.247   Prob(JB):                         0.00\n",
            "Kurtosis:                       6.231   Cond. No.                     3.65e+15\n",
            "==============================================================================\n",
            "\n",
            "Notes:\n",
            "[1] Standard Errors assume that the covariance matrix of the errors is correctly specified.\n",
            "[2] The smallest eigenvalue is 2.68e-25. This might indicate that there are\n",
            "strong multicollinearity problems or that the design matrix is singular.\n"
          ]
        }
      ]
    },
    {
      "cell_type": "code",
      "source": [
        "dependent_variable = 'hours_per_week'\n",
        "independent_variables = ['sex', 'education_num']\n",
        "\n",
        "# Transform \"gross_income_group\" as binary variable on the df\n",
        "df  = get_exogenous(income94, independent_variables)\n",
        "df['gross_income_group_>50k'] = (income94['gross_income_group'] == \">50K\").to_numpy(dtype='float32')\n",
        "df['gross_income_group_>50k'].replace({True: 1, False: 0}, inplace=True)\n",
        "\n",
        "# Make a model of linear regression  with using \"Sex\", \"Education_num\", and \"gross_income_group\" as independent variables\n",
        "model_3 = sm.OLS(income94[dependent_variable], sm.add_constant(df)).fit()\n",
        "print(model_3.summary())"
      ],
      "metadata": {
        "colab": {
          "base_uri": "https://localhost:8080/"
        },
        "id": "lZ4gxrFG6NdE",
        "outputId": "44c97419-b535-48c2-b848-75808f30c566"
      },
      "execution_count": 57,
      "outputs": [
        {
          "output_type": "stream",
          "name": "stdout",
          "text": [
            "                            OLS Regression Results                            \n",
            "==============================================================================\n",
            "Dep. Variable:         hours_per_week   R-squared:                       0.094\n",
            "Model:                            OLS   Adj. R-squared:                  0.094\n",
            "Method:                 Least Squares   F-statistic:                     1130.\n",
            "Date:                Wed, 19 Feb 2025   Prob (F-statistic):               0.00\n",
            "Time:                        01:57:17   Log-Likelihood:            -1.2643e+05\n",
            "No. Observations:               32561   AIC:                         2.529e+05\n",
            "Df Residuals:                   32557   BIC:                         2.529e+05\n",
            "Df Model:                           3                                         \n",
            "Covariance Type:            nonrobust                                         \n",
            "===========================================================================================\n",
            "                              coef    std err          t      P>|t|      [0.025      0.975]\n",
            "-------------------------------------------------------------------------------------------\n",
            "const                      22.6482      0.180    125.636      0.000      22.295      23.002\n",
            "Male                       13.8746      0.108    128.728      0.000      13.663      14.086\n",
            "Female                      8.7736      0.121     72.309      0.000       8.536       9.011\n",
            "education_num               0.4478      0.027     16.632      0.000       0.395       0.501\n",
            "gross_income_group_>50k     4.5175      0.166     27.229      0.000       4.192       4.843\n",
            "==============================================================================\n",
            "Omnibus:                     2984.190   Durbin-Watson:                   2.015\n",
            "Prob(Omnibus):                  0.000   Jarque-Bera (JB):            15467.160\n",
            "Skew:                           0.296   Prob(JB):                         0.00\n",
            "Kurtosis:                       6.324   Cond. No.                     2.19e+15\n",
            "==============================================================================\n",
            "\n",
            "Notes:\n",
            "[1] Standard Errors assume that the covariance matrix of the errors is correctly specified.\n",
            "[2] The smallest eigenvalue is 7.44e-25. This might indicate that there are\n",
            "strong multicollinearity problems or that the design matrix is singular.\n"
          ]
        },
        {
          "output_type": "stream",
          "name": "stderr",
          "text": [
            "<ipython-input-57-772fcdf079ca>:7: FutureWarning: A value is trying to be set on a copy of a DataFrame or Series through chained assignment using an inplace method.\n",
            "The behavior will change in pandas 3.0. This inplace method will never work because the intermediate object on which we are setting values always behaves as a copy.\n",
            "\n",
            "For example, when doing 'df[col].method(value, inplace=True)', try using 'df.method({col: value}, inplace=True)' or df[col] = df[col].method(value) instead, to perform the operation inplace on the original object.\n",
            "\n",
            "\n",
            "  df['gross_income_group_>50k'].replace({True: 1, False: 0}, inplace=True)\n"
          ]
        }
      ]
    },
    {
      "cell_type": "code",
      "source": [
        "# Get the RMSE for each model\n",
        "\n",
        "RMSE_1 = np.sqrt(np.mean((income94['hours_per_week'] - model_1.predict()) ** 2))\n",
        "RMSE_2 = np.sqrt(np.mean((income94['hours_per_week'] - model_2.predict()) ** 2))\n",
        "RMSE_3 = np.sqrt(np.mean((income94['hours_per_week'] - model_3.predict()) ** 2))\n",
        "\n",
        "print(\"Model 1: RMSE =\", RMSE_1)\n",
        "print(\"Model 2: RMSE =\", RMSE_2)\n",
        "print(\"Model 3: RMSE =\", RMSE_3)"
      ],
      "metadata": {
        "colab": {
          "base_uri": "https://localhost:8080/"
        },
        "id": "fkV85LYM7nQE",
        "outputId": "91e06afc-bc83-4112-8179-0b9a71c956d5"
      },
      "execution_count": 50,
      "outputs": [
        {
          "output_type": "stream",
          "name": "stdout",
          "text": [
            "Model 1: RMSE = 12.018230134263323\n",
            "Model 2: RMSE = 11.88353648804017\n",
            "Model 3: RMSE = 11.750494699340035\n"
          ]
        }
      ]
    }
  ]
}